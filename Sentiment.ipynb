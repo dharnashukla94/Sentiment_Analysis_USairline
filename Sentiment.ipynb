{
  "nbformat": 4,
  "nbformat_minor": 0,
  "metadata": {
    "colab": {
      "name": "Sentiment.ipynb",
      "provenance": []
    },
    "kernelspec": {
      "name": "python3",
      "display_name": "Python 3"
    }
  },
  "cells": [
    {
      "cell_type": "code",
      "metadata": {
        "id": "sSjUfy0aCXyx"
      },
      "source": [
        "\n",
        "import numpy as np \n",
        "import pandas as pd \n",
        "import matplotlib.pyplot as plt \n",
        "from sklearn.svm import SVC\n",
        "from sklearn.naive_bayes import GaussianNB, MultinomialNB\n",
        "from sklearn.metrics import accuracy_score,confusion_matrix, f1_score #for accuracy and scores\n",
        "import re\n",
        "import nltk\n",
        "from nltk.corpus import stopwords\n",
        "from sklearn.svm import LinearSVC\n",
        "from sklearn.model_selection import train_test_split\n",
        "from mlxtend.plotting import plot_confusion_matrix\n",
        "from sklearn.metrics import accuracy_score,confusion_matrix,classification_report\n",
        "from sklearn.feature_extraction.text import CountVectorizer\n",
        "from keras.layers import Convolution1D, GlobalMaxPooling1D\n",
        "from keras.layers import Dropout\n",
        "from keras.models import Sequential\n",
        "from keras.layers import Dense, Embedding,LSTM, Flatten, Dropout\n",
        "from keras.layers.embeddings import Embedding\n",
        "from keras.initializers import Constant\n",
        "from sklearn.metrics import accuracy_score\n",
        "import tensorflow as tf"
      ],
      "execution_count": null,
      "outputs": []
    },
    {
      "cell_type": "code",
      "metadata": {
        "colab": {
          "base_uri": "https://localhost:8080/"
        },
        "id": "An6dkeJvDJd6",
        "outputId": "3615a918-8201-4c8e-e44a-c0c13052ef8f"
      },
      "source": [
        "# Loading the dataset into Pandas\n",
        "    \n",
        "\n",
        "path = '/content/drive/MyDrive/Tweets.csv'\n",
        "data_df = pd.read_csv(path)\n",
        "\n",
        "\n",
        "#Pandas: whats the data row count?\n",
        "data_df.shape\n",
        "    \n",
        "#Pandas: whats the distribution of the data?\n",
        "data_df.describe()\n",
        "    \n",
        "#Pandas: What types of data do i have?\n",
        "data_df.info()    "
      ],
      "execution_count": null,
      "outputs": [
        {
          "output_type": "stream",
          "text": [
            "<class 'pandas.core.frame.DataFrame'>\n",
            "RangeIndex: 14640 entries, 0 to 14639\n",
            "Data columns (total 15 columns):\n",
            " #   Column                        Non-Null Count  Dtype  \n",
            "---  ------                        --------------  -----  \n",
            " 0   tweet_id                      14640 non-null  int64  \n",
            " 1   airline_sentiment             14640 non-null  object \n",
            " 2   airline_sentiment_confidence  14640 non-null  float64\n",
            " 3   negativereason                9178 non-null   object \n",
            " 4   negativereason_confidence     10522 non-null  float64\n",
            " 5   airline                       14640 non-null  object \n",
            " 6   airline_sentiment_gold        40 non-null     object \n",
            " 7   name                          14640 non-null  object \n",
            " 8   negativereason_gold           32 non-null     object \n",
            " 9   retweet_count                 14640 non-null  int64  \n",
            " 10  text                          14640 non-null  object \n",
            " 11  tweet_coord                   1019 non-null   object \n",
            " 12  tweet_created                 14640 non-null  object \n",
            " 13  tweet_location                9907 non-null   object \n",
            " 14  user_timezone                 9820 non-null   object \n",
            "dtypes: float64(2), int64(2), object(11)\n",
            "memory usage: 1.7+ MB\n"
          ],
          "name": "stdout"
        }
      ]
    },
    {
      "cell_type": "code",
      "metadata": {
        "colab": {
          "base_uri": "https://localhost:8080/",
          "height": 445
        },
        "id": "Y04I18mYDv9i",
        "outputId": "e7c76368-3c5d-4798-f9c1-14fbe787d29f"
      },
      "source": [
        "data_df.head()"
      ],
      "execution_count": null,
      "outputs": [
        {
          "output_type": "execute_result",
          "data": {
            "text/html": [
              "<div>\n",
              "<style scoped>\n",
              "    .dataframe tbody tr th:only-of-type {\n",
              "        vertical-align: middle;\n",
              "    }\n",
              "\n",
              "    .dataframe tbody tr th {\n",
              "        vertical-align: top;\n",
              "    }\n",
              "\n",
              "    .dataframe thead th {\n",
              "        text-align: right;\n",
              "    }\n",
              "</style>\n",
              "<table border=\"1\" class=\"dataframe\">\n",
              "  <thead>\n",
              "    <tr style=\"text-align: right;\">\n",
              "      <th></th>\n",
              "      <th>tweet_id</th>\n",
              "      <th>airline_sentiment</th>\n",
              "      <th>airline_sentiment_confidence</th>\n",
              "      <th>negativereason</th>\n",
              "      <th>negativereason_confidence</th>\n",
              "      <th>airline</th>\n",
              "      <th>airline_sentiment_gold</th>\n",
              "      <th>name</th>\n",
              "      <th>negativereason_gold</th>\n",
              "      <th>retweet_count</th>\n",
              "      <th>text</th>\n",
              "      <th>tweet_coord</th>\n",
              "      <th>tweet_created</th>\n",
              "      <th>tweet_location</th>\n",
              "      <th>user_timezone</th>\n",
              "    </tr>\n",
              "  </thead>\n",
              "  <tbody>\n",
              "    <tr>\n",
              "      <th>0</th>\n",
              "      <td>570306133677760513</td>\n",
              "      <td>neutral</td>\n",
              "      <td>1.0000</td>\n",
              "      <td>NaN</td>\n",
              "      <td>NaN</td>\n",
              "      <td>Virgin America</td>\n",
              "      <td>NaN</td>\n",
              "      <td>cairdin</td>\n",
              "      <td>NaN</td>\n",
              "      <td>0</td>\n",
              "      <td>@VirginAmerica What @dhepburn said.</td>\n",
              "      <td>NaN</td>\n",
              "      <td>2015-02-24 11:35:52 -0800</td>\n",
              "      <td>NaN</td>\n",
              "      <td>Eastern Time (US &amp; Canada)</td>\n",
              "    </tr>\n",
              "    <tr>\n",
              "      <th>1</th>\n",
              "      <td>570301130888122368</td>\n",
              "      <td>positive</td>\n",
              "      <td>0.3486</td>\n",
              "      <td>NaN</td>\n",
              "      <td>0.0000</td>\n",
              "      <td>Virgin America</td>\n",
              "      <td>NaN</td>\n",
              "      <td>jnardino</td>\n",
              "      <td>NaN</td>\n",
              "      <td>0</td>\n",
              "      <td>@VirginAmerica plus you've added commercials t...</td>\n",
              "      <td>NaN</td>\n",
              "      <td>2015-02-24 11:15:59 -0800</td>\n",
              "      <td>NaN</td>\n",
              "      <td>Pacific Time (US &amp; Canada)</td>\n",
              "    </tr>\n",
              "    <tr>\n",
              "      <th>2</th>\n",
              "      <td>570301083672813571</td>\n",
              "      <td>neutral</td>\n",
              "      <td>0.6837</td>\n",
              "      <td>NaN</td>\n",
              "      <td>NaN</td>\n",
              "      <td>Virgin America</td>\n",
              "      <td>NaN</td>\n",
              "      <td>yvonnalynn</td>\n",
              "      <td>NaN</td>\n",
              "      <td>0</td>\n",
              "      <td>@VirginAmerica I didn't today... Must mean I n...</td>\n",
              "      <td>NaN</td>\n",
              "      <td>2015-02-24 11:15:48 -0800</td>\n",
              "      <td>Lets Play</td>\n",
              "      <td>Central Time (US &amp; Canada)</td>\n",
              "    </tr>\n",
              "    <tr>\n",
              "      <th>3</th>\n",
              "      <td>570301031407624196</td>\n",
              "      <td>negative</td>\n",
              "      <td>1.0000</td>\n",
              "      <td>Bad Flight</td>\n",
              "      <td>0.7033</td>\n",
              "      <td>Virgin America</td>\n",
              "      <td>NaN</td>\n",
              "      <td>jnardino</td>\n",
              "      <td>NaN</td>\n",
              "      <td>0</td>\n",
              "      <td>@VirginAmerica it's really aggressive to blast...</td>\n",
              "      <td>NaN</td>\n",
              "      <td>2015-02-24 11:15:36 -0800</td>\n",
              "      <td>NaN</td>\n",
              "      <td>Pacific Time (US &amp; Canada)</td>\n",
              "    </tr>\n",
              "    <tr>\n",
              "      <th>4</th>\n",
              "      <td>570300817074462722</td>\n",
              "      <td>negative</td>\n",
              "      <td>1.0000</td>\n",
              "      <td>Can't Tell</td>\n",
              "      <td>1.0000</td>\n",
              "      <td>Virgin America</td>\n",
              "      <td>NaN</td>\n",
              "      <td>jnardino</td>\n",
              "      <td>NaN</td>\n",
              "      <td>0</td>\n",
              "      <td>@VirginAmerica and it's a really big bad thing...</td>\n",
              "      <td>NaN</td>\n",
              "      <td>2015-02-24 11:14:45 -0800</td>\n",
              "      <td>NaN</td>\n",
              "      <td>Pacific Time (US &amp; Canada)</td>\n",
              "    </tr>\n",
              "  </tbody>\n",
              "</table>\n",
              "</div>"
            ],
            "text/plain": [
              "             tweet_id  ...               user_timezone\n",
              "0  570306133677760513  ...  Eastern Time (US & Canada)\n",
              "1  570301130888122368  ...  Pacific Time (US & Canada)\n",
              "2  570301083672813571  ...  Central Time (US & Canada)\n",
              "3  570301031407624196  ...  Pacific Time (US & Canada)\n",
              "4  570300817074462722  ...  Pacific Time (US & Canada)\n",
              "\n",
              "[5 rows x 15 columns]"
            ]
          },
          "metadata": {
            "tags": []
          },
          "execution_count": 5
        }
      ]
    },
    {
      "cell_type": "code",
      "metadata": {
        "colab": {
          "base_uri": "https://localhost:8080/"
        },
        "id": "LM54APa4D_XA",
        "outputId": "c711f552-eb18-492e-bdd1-4f3239bc8180"
      },
      "source": [
        "sentiment_counts = data_df.airline_sentiment.value_counts()\n",
        "number_of_tweets = data_df.tweet_id.count()\n",
        "print(sentiment_counts)"
      ],
      "execution_count": null,
      "outputs": [
        {
          "output_type": "stream",
          "text": [
            "negative    9178\n",
            "neutral     3099\n",
            "positive    2363\n",
            "Name: airline_sentiment, dtype: int64\n"
          ],
          "name": "stdout"
        }
      ]
    },
    {
      "cell_type": "code",
      "metadata": {
        "colab": {
          "base_uri": "https://localhost:8080/",
          "height": 421
        },
        "id": "EZaY3vyOELvK",
        "outputId": "398851a0-1a2c-49ce-c7b7-53ff5584e08b"
      },
      "source": [
        "counter = data_df.airline_sentiment.value_counts()\n",
        "index = [1,2,3]\n",
        "plt.figure(1,figsize=(12,6))\n",
        "plt.bar(index,counter,color=['green','red','blue'])\n",
        "plt.xticks(index,['negative','neutral','positive'],rotation=0)\n",
        "plt.xlabel('Sentiment Type')\n",
        "plt.ylabel('Sentiment Count')\n",
        "plt.title('Count of Type of Sentiment')"
      ],
      "execution_count": null,
      "outputs": [
        {
          "output_type": "execute_result",
          "data": {
            "text/plain": [
              "Text(0.5, 1.0, 'Count of Type of Sentiment')"
            ]
          },
          "metadata": {
            "tags": []
          },
          "execution_count": 7
        },
        {
          "output_type": "display_data",
          "data": {
            "image/png": "[encoded data removed]",
            "text/plain": [
              "<Figure size 864x432 with 1 Axes>"
            ]
          },
          "metadata": {
            "tags": [],
            "needs_background": "light"
          }
        }
      ]
    },
    {
      "cell_type": "code",
      "metadata": {
        "colab": {
          "base_uri": "https://localhost:8080/"
        },
        "id": "gsD4u_AKERJv",
        "outputId": "89829407-96b7-4df6-f534-2d159f15f9ef"
      },
      "source": [
        "# Count tweets\n",
        "print(len(data_df))"
      ],
      "execution_count": null,
      "outputs": [
        {
          "output_type": "stream",
          "text": [
            "14640\n"
          ],
          "name": "stdout"
        }
      ]
    },
    {
      "cell_type": "code",
      "metadata": {
        "colab": {
          "base_uri": "https://localhost:8080/",
          "height": 507
        },
        "id": "VarNeZ11EbCq",
        "outputId": "1970d11a-6b30-4b17-f9ff-405fb7753d69"
      },
      "source": [
        "neg_tweets = data_df.groupby(['airline','airline_sentiment']).count().iloc[:,0]\n",
        "total_tweets = data_df.groupby(['airline'])['airline_sentiment'].count()\n",
        "\n",
        "my_dict = {'American':neg_tweets[0] / total_tweets[0],'Delta':neg_tweets[3] / total_tweets[1],'Southwest': neg_tweets[6] / total_tweets[2],\n",
        "'US Airways': neg_tweets[9] / total_tweets[3],'United': neg_tweets[12] / total_tweets[4],'Virgin': neg_tweets[15] / total_tweets[5]}\n",
        "perc = pd.DataFrame.from_dict(my_dict, orient = 'index')\n",
        "perc.columns = ['Percent Negative']\n",
        "print(perc)\n",
        "ax = perc.plot(kind = 'bar', rot=0, colormap = 'Greens_r', figsize = (15,6))\n",
        "ax.set_xlabel('Airlines')\n",
        "ax.set_ylabel('Percentage of negative tweets')\n",
        "plt.show()"
      ],
      "execution_count": null,
      "outputs": [
        {
          "output_type": "stream",
          "text": [
            "            Percent Negative\n",
            "American            0.710402\n",
            "Delta               0.429793\n",
            "Southwest           0.490083\n",
            "US Airways          0.776862\n",
            "United              0.688906\n",
            "Virgin              0.359127\n"
          ],
          "name": "stdout"
        },
        {
          "output_type": "display_data",
          "data": {
            "image/png": "[encoded data removed]",
            "text/plain": [
              "<Figure size 1080x432 with 1 Axes>"
            ]
          },
          "metadata": {
            "tags": [],
            "needs_background": "light"
          }
        }
      ]
    },
    {
      "cell_type": "code",
      "metadata": {
        "id": "KDmaIkLoEvM9"
      },
      "source": [
        "# Data Preprocessing \n",
        "\n",
        "def remove_stopwords(input_text):\n",
        "    stopwords_list = stopwords.words('english')\n",
        "    wl = [\"not\", \"no\"]\n",
        "    words = input_text.split() \n",
        "    clean_words = [word for word in words if (word not in stopwords_list or word in wl) and len(word) > 1] \n",
        "    return \" \".join(clean_words)\n",
        "\n",
        "def remove_mentions(input_text):\n",
        "    for i in range(len(input_text)):\n",
        "        input_text[i] = re.sub(r'@\\w+', '', input_text[i])\n",
        "    return input_text\n",
        "\n",
        "def lower_case(input_text):\n",
        "    for i in range(len(input_text)):\n",
        "        input_text[i] = input_text[i].lower()\n",
        "    return input_text\n",
        "\n",
        "def remove_http(input_text):\n",
        "    for i in range(len(input_text)):\n",
        "        input_text[i] = re.sub(r'http\\S+', '',input_text[i])\n",
        "    return input_text\n",
        "\n",
        "def remove_punctuation(input_text):\n",
        "    for i in range(len(input_text)):\n",
        "        input_text[i] = re.sub(r'[^\\w\\s]','',input_text[i])\n",
        "    return input_text\n"
      ],
      "execution_count": null,
      "outputs": []
    },
    {
      "cell_type": "code",
      "metadata": {
        "colab": {
          "base_uri": "https://localhost:8080/"
        },
        "id": "wIbp0PtFHWGH",
        "outputId": "48c25206-8804-4f4a-bef3-31d19ab1d2a1"
      },
      "source": [
        "import nltk\n",
        "nltk.download('stopwords')\n",
        "\n",
        "data_2 = data_df[['text', 'airline_sentiment']]\n",
        "preprocessed_data = data_2.apply(remove_mentions).apply(remove_http).apply(remove_punctuation).apply(lower_case)\n",
        "clean_text = []\n",
        "for tweet in preprocessed_data.text:\n",
        "    clean = remove_stopwords(tweet)\n",
        "    clean_text.append(clean)\n",
        "\n",
        "X = clean_text\n",
        "Y = preprocessed_data['airline_sentiment']\n",
        "from sklearn.model_selection import train_test_split\n",
        "Y = Y.map({'negative':0, 'positive':1, 'neutral':2}).astype(int)\n",
        "X_train,X_test,y_train,y_test = train_test_split(X, Y, test_size=0.1, random_state=42)"
      ],
      "execution_count": null,
      "outputs": [
        {
          "output_type": "stream",
          "text": [
            "[nltk_data] Downloading package stopwords to /root/nltk_data...\n",
            "[nltk_data]   Unzipping corpora/stopwords.zip.\n"
          ],
          "name": "stdout"
        }
      ]
    },
    {
      "cell_type": "code",
      "metadata": {
        "id": "Z7LchRDTIjkc"
      },
      "source": [
        "from sklearn.feature_extraction.text import TfidfVectorizer\n",
        "vectorizer = TfidfVectorizer()\n",
        "text_features_train = vectorizer.fit_transform(X_train)\n",
        "text_features_test = vectorizer.transform(X_test)"
      ],
      "execution_count": null,
      "outputs": []
    },
    {
      "cell_type": "code",
      "metadata": {
        "id": "bJuD_cRGLmaE"
      },
      "source": [
        "from gensim.models import Word2Vec\n",
        "sentences = [line.split() for line in clean_text]\n",
        "w2v = Word2Vec(sentences, size=50, min_count = 0, window = 5,workers=4,iter=500)"
      ],
      "execution_count": null,
      "outputs": []
    },
    {
      "cell_type": "code",
      "metadata": {
        "colab": {
          "base_uri": "https://localhost:8080/"
        },
        "id": "ndz6coNXLJkR",
        "outputId": "911047eb-d758-4cc6-8526-8eaeb3461d27"
      },
      "source": [
        "from keras.preprocessing.text import Tokenizer\n",
        "from keras.preprocessing.sequence import pad_sequences\n",
        "\n",
        "t = Tokenizer()\n",
        "t.fit_on_texts(clean_text)\n",
        "vocab_size = len(t.word_index) + 1\n",
        "encoded_docs = t.texts_to_sequences(clean_text)\n",
        "padded_docs = pad_sequences(encoded_docs, maxlen=20, padding='post')\n",
        "embedding_dict = dict()\n",
        "for i in w2v.wv.vocab:\n",
        "    embedding_dict[i] = w2v[i]\n",
        "\n",
        "embedding_matrix = np.zeros((vocab_size, 50))\n",
        "for word, i in t.word_index.items():\n",
        "    embedding_vector = embedding_dict.get(word)\n",
        "    if embedding_vector is not None:\n",
        "        embedding_matrix[i] = embedding_vector"
      ],
      "execution_count": null,
      "outputs": [
        {
          "output_type": "stream",
          "text": [
            "/usr/local/lib/python3.7/dist-packages/ipykernel_launcher.py:11: DeprecationWarning: Call to deprecated `__getitem__` (Method will be removed in 4.0.0, use self.wv.__getitem__() instead).\n",
            "  # This is added back by InteractiveShellApp.init_path()\n"
          ],
          "name": "stderr"
        }
      ]
    },
    {
      "cell_type": "code",
      "metadata": {
        "id": "WSLUlKrNMhuu"
      },
      "source": [
        "def results(labels, pred):\n",
        "    print(confusion_matrix(labels,pred))  \n",
        "    print(classification_report(labels,pred))  \n",
        "    print(accuracy_score(labels, pred))"
      ],
      "execution_count": null,
      "outputs": []
    },
    {
      "cell_type": "code",
      "metadata": {
        "colab": {
          "base_uri": "https://localhost:8080/"
        },
        "id": "lshO7d2SLgKb",
        "outputId": "9f359506-8947-41d3-a7a6-6d2dd6754f90"
      },
      "source": [
        "# SVM \n",
        "\n",
        "def svm(training_features, labels_train, test_features, labels_test):\n",
        "    for c in [1, 5, 10, 50]:\n",
        "    #changing the parameter C to get the optimal classification\n",
        "        model = LinearSVC(C=c)\n",
        "        model.fit(training_features, labels_train)\n",
        "        print (\"Accuracy of svm for C=%s: %s\" \n",
        "           % (c, accuracy_score(labels_train, model.predict(training_features))))\n",
        "        results(labels_test, model.predict(test_features))\n",
        "\n",
        "\n",
        "svm(text_features_train,y_train, text_features_test,y_test)"
      ],
      "execution_count": null,
      "outputs": [
        {
          "output_type": "stream",
          "text": [
            "Accuracy of svm for C=1: 0.9564359441408622\n",
            "[[847  24  53]\n",
            " [ 44 161  33]\n",
            " [115  38 149]]\n",
            "              precision    recall  f1-score   support\n",
            "\n",
            "           0       0.84      0.92      0.88       924\n",
            "           1       0.72      0.68      0.70       238\n",
            "           2       0.63      0.49      0.55       302\n",
            "\n",
            "    accuracy                           0.79      1464\n",
            "   macro avg       0.73      0.70      0.71      1464\n",
            "weighted avg       0.78      0.79      0.78      1464\n",
            "\n",
            "0.7903005464480874\n",
            "Accuracy of svm for C=5: 0.9780661809350334\n",
            "[[826  28  70]\n",
            " [ 45 156  37]\n",
            " [115  37 150]]\n",
            "              precision    recall  f1-score   support\n",
            "\n",
            "           0       0.84      0.89      0.86       924\n",
            "           1       0.71      0.66      0.68       238\n",
            "           2       0.58      0.50      0.54       302\n",
            "\n",
            "    accuracy                           0.77      1464\n",
            "   macro avg       0.71      0.68      0.69      1464\n",
            "weighted avg       0.76      0.77      0.77      1464\n",
            "\n",
            "0.773224043715847\n",
            "Accuracy of svm for C=10: 0.98224043715847\n",
            "[[804  34  86]\n",
            " [ 46 153  39]\n",
            " [109  41 152]]\n",
            "              precision    recall  f1-score   support\n",
            "\n",
            "           0       0.84      0.87      0.85       924\n",
            "           1       0.67      0.64      0.66       238\n",
            "           2       0.55      0.50      0.53       302\n",
            "\n",
            "    accuracy                           0.76      1464\n",
            "   macro avg       0.69      0.67      0.68      1464\n",
            "weighted avg       0.75      0.76      0.75      1464\n",
            "\n",
            "0.7575136612021858\n",
            "Accuracy of svm for C=50: 0.9885397692774742\n",
            "[[773  45 106]\n",
            " [ 46 149  43]\n",
            " [108  43 151]]\n",
            "              precision    recall  f1-score   support\n",
            "\n",
            "           0       0.83      0.84      0.84       924\n",
            "           1       0.63      0.63      0.63       238\n",
            "           2       0.50      0.50      0.50       302\n",
            "\n",
            "    accuracy                           0.73      1464\n",
            "   macro avg       0.66      0.65      0.65      1464\n",
            "weighted avg       0.73      0.73      0.73      1464\n",
            "\n",
            "0.7329234972677595\n"
          ],
          "name": "stdout"
        },
        {
          "output_type": "stream",
          "text": [
            "/usr/local/lib/python3.7/dist-packages/sklearn/svm/_base.py:947: ConvergenceWarning: Liblinear failed to converge, increase the number of iterations.\n",
            "  \"the number of iterations.\", ConvergenceWarning)\n"
          ],
          "name": "stderr"
        }
      ]
    },
    {
      "cell_type": "code",
      "metadata": {
        "colab": {
          "base_uri": "https://localhost:8080/"
        },
        "id": "CRFDXwHhMdkW",
        "outputId": "908a00c8-fa74-4ed6-e9b3-44df1fe82e5c"
      },
      "source": [
        "# Naive Bayes\n",
        "\n",
        "def naiive_bayes(training_features, labels_train, test_features, labels_test):\n",
        "    clf = MultinomialNB()\n",
        "    clf.fit(training_features, labels_train)\n",
        "    print (\"Accuracy of Naiive Bayes: %s\" \n",
        "         % ( accuracy_score(labels_test, clf.predict(test_features))))\n",
        "    results(labels_test, clf.predict(test_features))\n",
        "\n",
        "naiive_bayes(text_features_train,y_train, text_features_test,y_test)    "
      ],
      "execution_count": null,
      "outputs": [
        {
          "output_type": "stream",
          "text": [
            "Accuracy of Naiive Bayes: 0.6967213114754098\n",
            "[[920   0   4]\n",
            " [178  55   5]\n",
            " [253   4  45]]\n",
            "              precision    recall  f1-score   support\n",
            "\n",
            "           0       0.68      1.00      0.81       924\n",
            "           1       0.93      0.23      0.37       238\n",
            "           2       0.83      0.15      0.25       302\n",
            "\n",
            "    accuracy                           0.70      1464\n",
            "   macro avg       0.82      0.46      0.48      1464\n",
            "weighted avg       0.75      0.70      0.62      1464\n",
            "\n",
            "0.6967213114754098\n"
          ],
          "name": "stdout"
        }
      ]
    },
    {
      "cell_type": "code",
      "metadata": {
        "id": "kHpWqmz2MpGY"
      },
      "source": [
        "import tensorflow as tf\n",
        "y_one_hot = tf.keras.utils.to_categorical(\n",
        "    Y,\n",
        "    num_classes=3,\n",
        "    dtype='int32'\n",
        ")\n",
        "\n",
        "x_train_DL, x_test_DL,y_train_DL,y_test_DL = train_test_split(padded_docs,y_one_hot,test_size=0.1,random_state=42)"
      ],
      "execution_count": null,
      "outputs": []
    },
    {
      "cell_type": "code",
      "metadata": {
        "colab": {
          "base_uri": "https://localhost:8080/"
        },
        "id": "qveJxsGlNXXv",
        "outputId": "49f41eb3-785d-4a0f-91b1-89e78f0d5f7b"
      },
      "source": [
        "# Feed forward network\n",
        "\n",
        "model = Sequential()\n",
        "embedding_layer = Embedding(vocab_size,50,embeddings_initializer = Constant(embedding_matrix),input_length=20, trainable=False)\n",
        "model.add(embedding_layer)\n",
        "model.add(Dense(128,activation='relu'))\n",
        "model.add(Dropout(0.2))\n",
        "model.add(Dense(128,activation='relu'))\n",
        "model.add(Dropout(0.2))\n",
        "model.add(Flatten())\n",
        "model.add(Dense(3,activation='softmax'))\n",
        "model.compile(loss='categorical_crossentropy',\n",
        "              optimizer='adam',\n",
        "              metrics=['accuracy'])\n",
        "print(model.summary())\n",
        "model.fit(x_train_DL,y_train_DL,epochs = 50, batch_size=128)\n",
        "ans = model.predict(x_test_DL)\n",
        "labels = [np.where(r==1)[0][0] for r in y_test_DL]\n",
        "ans = np.argmax(ans,axis=1)\n",
        "accuracy_score(ans,labels)\n",
        "results(ans,labels)"
      ],
      "execution_count": null,
      "outputs": [
        {
          "output_type": "stream",
          "text": [
            "Model: \"sequential\"\n",
            "_________________________________________________________________\n",
            "Layer (type)                 Output Shape              Param #   \n",
            "=================================================================\n",
            "embedding (Embedding)        (None, 20, 50)            726400    \n",
            "_________________________________________________________________\n",
            "dense (Dense)                (None, 20, 128)           6528      \n",
            "_________________________________________________________________\n",
            "dropout (Dropout)            (None, 20, 128)           0         \n",
            "_________________________________________________________________\n",
            "dense_1 (Dense)              (None, 20, 128)           16512     \n",
            "_________________________________________________________________\n",
            "dropout_1 (Dropout)          (None, 20, 128)           0         \n",
            "_________________________________________________________________\n",
            "flatten (Flatten)            (None, 2560)              0         \n",
            "_________________________________________________________________\n",
            "dense_2 (Dense)              (None, 3)                 7683      \n",
            "=================================================================\n",
            "Total params: 757,123\n",
            "Trainable params: 30,723\n",
            "Non-trainable params: 726,400\n",
            "_________________________________________________________________\n",
            "None\n",
            "Epoch 1/50\n",
            "103/103 [==============================] - 3s 20ms/step - loss: 0.9033 - accuracy: 0.6217\n",
            "Epoch 2/50\n",
            "103/103 [==============================] - 2s 20ms/step - loss: 0.5994 - accuracy: 0.7595\n",
            "Epoch 3/50\n",
            "103/103 [==============================] - 2s 20ms/step - loss: 0.5557 - accuracy: 0.7821\n",
            "Epoch 4/50\n",
            "103/103 [==============================] - 2s 19ms/step - loss: 0.5155 - accuracy: 0.7978\n",
            "Epoch 5/50\n",
            "103/103 [==============================] - 2s 20ms/step - loss: 0.5097 - accuracy: 0.7928\n",
            "Epoch 6/50\n",
            "103/103 [==============================] - 2s 19ms/step - loss: 0.4726 - accuracy: 0.8107\n",
            "Epoch 7/50\n",
            "103/103 [==============================] - 2s 20ms/step - loss: 0.4676 - accuracy: 0.8190\n",
            "Epoch 8/50\n",
            "103/103 [==============================] - 2s 20ms/step - loss: 0.4473 - accuracy: 0.8210\n",
            "Epoch 9/50\n",
            "103/103 [==============================] - 2s 20ms/step - loss: 0.4363 - accuracy: 0.8293\n",
            "Epoch 10/50\n",
            "103/103 [==============================] - 2s 20ms/step - loss: 0.4395 - accuracy: 0.8241\n",
            "Epoch 11/50\n",
            "103/103 [==============================] - 2s 20ms/step - loss: 0.4174 - accuracy: 0.8379\n",
            "Epoch 12/50\n",
            "103/103 [==============================] - 2s 20ms/step - loss: 0.4192 - accuracy: 0.8335\n",
            "Epoch 13/50\n",
            "103/103 [==============================] - 2s 20ms/step - loss: 0.3899 - accuracy: 0.8443\n",
            "Epoch 14/50\n",
            "103/103 [==============================] - 2s 19ms/step - loss: 0.3988 - accuracy: 0.8410\n",
            "Epoch 15/50\n",
            "103/103 [==============================] - 2s 20ms/step - loss: 0.3803 - accuracy: 0.8444\n",
            "Epoch 16/50\n",
            "103/103 [==============================] - 2s 20ms/step - loss: 0.3741 - accuracy: 0.8509\n",
            "Epoch 17/50\n",
            "103/103 [==============================] - 2s 20ms/step - loss: 0.3677 - accuracy: 0.8563\n",
            "Epoch 18/50\n",
            "103/103 [==============================] - 2s 20ms/step - loss: 0.3627 - accuracy: 0.8581\n",
            "Epoch 19/50\n",
            "103/103 [==============================] - 2s 20ms/step - loss: 0.3462 - accuracy: 0.8636\n",
            "Epoch 20/50\n",
            "103/103 [==============================] - 2s 20ms/step - loss: 0.3464 - accuracy: 0.8669\n",
            "Epoch 21/50\n",
            "103/103 [==============================] - 2s 19ms/step - loss: 0.3423 - accuracy: 0.8652\n",
            "Epoch 22/50\n",
            "103/103 [==============================] - 2s 19ms/step - loss: 0.3315 - accuracy: 0.8696\n",
            "Epoch 23/50\n",
            "103/103 [==============================] - 2s 19ms/step - loss: 0.3365 - accuracy: 0.8680\n",
            "Epoch 24/50\n",
            "103/103 [==============================] - 2s 19ms/step - loss: 0.3275 - accuracy: 0.8674\n",
            "Epoch 25/50\n",
            "103/103 [==============================] - 2s 19ms/step - loss: 0.3242 - accuracy: 0.8728\n",
            "Epoch 26/50\n",
            "103/103 [==============================] - 2s 19ms/step - loss: 0.3142 - accuracy: 0.8767\n",
            "Epoch 27/50\n",
            "103/103 [==============================] - 2s 20ms/step - loss: 0.3182 - accuracy: 0.8703\n",
            "Epoch 28/50\n",
            "103/103 [==============================] - 2s 20ms/step - loss: 0.3181 - accuracy: 0.8752\n",
            "Epoch 29/50\n",
            "103/103 [==============================] - 2s 20ms/step - loss: 0.3155 - accuracy: 0.8769\n",
            "Epoch 30/50\n",
            "103/103 [==============================] - 2s 20ms/step - loss: 0.3125 - accuracy: 0.8763\n",
            "Epoch 31/50\n",
            "103/103 [==============================] - 2s 20ms/step - loss: 0.3163 - accuracy: 0.8755\n",
            "Epoch 32/50\n",
            "103/103 [==============================] - 2s 20ms/step - loss: 0.2977 - accuracy: 0.8818\n",
            "Epoch 33/50\n",
            "103/103 [==============================] - 2s 20ms/step - loss: 0.3019 - accuracy: 0.8807\n",
            "Epoch 34/50\n",
            "103/103 [==============================] - 2s 20ms/step - loss: 0.2927 - accuracy: 0.8825\n",
            "Epoch 35/50\n",
            "103/103 [==============================] - 2s 20ms/step - loss: 0.2910 - accuracy: 0.8859\n",
            "Epoch 36/50\n",
            "103/103 [==============================] - 2s 20ms/step - loss: 0.2838 - accuracy: 0.8890\n",
            "Epoch 37/50\n",
            "103/103 [==============================] - 2s 20ms/step - loss: 0.2860 - accuracy: 0.8840\n",
            "Epoch 38/50\n",
            "103/103 [==============================] - 2s 20ms/step - loss: 0.2907 - accuracy: 0.8852\n",
            "Epoch 39/50\n",
            "103/103 [==============================] - 2s 20ms/step - loss: 0.2951 - accuracy: 0.8792\n",
            "Epoch 40/50\n",
            "103/103 [==============================] - 2s 20ms/step - loss: 0.2743 - accuracy: 0.8898\n",
            "Epoch 41/50\n",
            "103/103 [==============================] - 2s 20ms/step - loss: 0.2842 - accuracy: 0.8908\n",
            "Epoch 42/50\n",
            "103/103 [==============================] - 2s 20ms/step - loss: 0.2696 - accuracy: 0.8960\n",
            "Epoch 43/50\n",
            "103/103 [==============================] - 2s 20ms/step - loss: 0.2666 - accuracy: 0.8936\n",
            "Epoch 44/50\n",
            "103/103 [==============================] - 2s 20ms/step - loss: 0.2689 - accuracy: 0.8910\n",
            "Epoch 45/50\n",
            "103/103 [==============================] - 2s 20ms/step - loss: 0.2695 - accuracy: 0.8953\n",
            "Epoch 46/50\n",
            "103/103 [==============================] - 2s 20ms/step - loss: 0.2598 - accuracy: 0.8997\n",
            "Epoch 47/50\n",
            "103/103 [==============================] - 2s 20ms/step - loss: 0.2634 - accuracy: 0.8938\n",
            "Epoch 48/50\n",
            "103/103 [==============================] - 2s 20ms/step - loss: 0.2708 - accuracy: 0.8918\n",
            "Epoch 49/50\n",
            "103/103 [==============================] - 2s 20ms/step - loss: 0.2575 - accuracy: 0.8992\n",
            "Epoch 50/50\n",
            "103/103 [==============================] - 2s 20ms/step - loss: 0.2607 - accuracy: 0.8935\n",
            "[[787  28  87]\n",
            " [ 39 171  40]\n",
            " [ 98  39 175]]\n",
            "              precision    recall  f1-score   support\n",
            "\n",
            "           0       0.85      0.87      0.86       902\n",
            "           1       0.72      0.68      0.70       250\n",
            "           2       0.58      0.56      0.57       312\n",
            "\n",
            "    accuracy                           0.77      1464\n",
            "   macro avg       0.72      0.71      0.71      1464\n",
            "weighted avg       0.77      0.77      0.77      1464\n",
            "\n",
            "0.7739071038251366\n"
          ],
          "name": "stdout"
        }
      ]
    },
    {
      "cell_type": "code",
      "metadata": {
        "colab": {
          "base_uri": "https://localhost:8080/"
        },
        "id": "5nU2WLRCNdnE",
        "outputId": "8327410a-4428-4136-c324-b62f2c78530d"
      },
      "source": [
        "# LSTM\n",
        "\n",
        "embedding_layer = Embedding(vocab_size,50,embeddings_initializer = Constant(embedding_matrix),input_length=20, trainable=True)\n",
        "model.add(embedding_layer)\n",
        "model.add(LSTM(32, activation = 'relu',return_sequences=True))\n",
        "model.add(Dropout(0.2))\n",
        "model.add(LSTM(32, activation = 'relu'))\n",
        "model.add(Dropout(0.2))\n",
        "model.add(Dense(3,activation = 'softmax'))\n",
        "print(model.summary())\n",
        "model.compile(loss='categorical_crossentropy',\n",
        "              optimizer='adam',\n",
        "              metrics=['accuracy'])\n",
        "model.fit(x_train_DL,y_train_DL,epochs = 20,batch_size=256)\n",
        "ans = model.predict(x_test_DL)\n",
        "labels = [np.where(r==1)[0][0] for r in y_test_DL]\n",
        "ans = np.argmax(ans,axis=1)\n",
        "accuracy_score(ans,labels)\n",
        "results(ans,labels)"
      ],
      "execution_count": null,
      "outputs": [
        {
          "output_type": "stream",
          "text": [
            "Model: \"sequential\"\n",
            "_________________________________________________________________\n",
            "Layer (type)                 Output Shape              Param #   \n",
            "=================================================================\n",
            "embedding (Embedding)        (None, 20, 50)            726400    \n",
            "_________________________________________________________________\n",
            "dense (Dense)                (None, 20, 128)           6528      \n",
            "_________________________________________________________________\n",
            "dropout (Dropout)            (None, 20, 128)           0         \n",
            "_________________________________________________________________\n",
            "dense_1 (Dense)              (None, 20, 128)           16512     \n",
            "_________________________________________________________________\n",
            "dropout_1 (Dropout)          (None, 20, 128)           0         \n",
            "_________________________________________________________________\n",
            "flatten (Flatten)            (None, 2560)              0         \n",
            "_________________________________________________________________\n",
            "dense_2 (Dense)              (None, 3)                 7683      \n",
            "_________________________________________________________________\n",
            "embedding_1 (Embedding)      (None, 3, 50)             726400    \n",
            "_________________________________________________________________\n",
            "lstm (LSTM)                  (None, 3, 32)             10624     \n",
            "_________________________________________________________________\n",
            "dropout_2 (Dropout)          (None, 3, 32)             0         \n",
            "_________________________________________________________________\n",
            "lstm_1 (LSTM)                (None, 32)                8320      \n",
            "_________________________________________________________________\n",
            "dropout_3 (Dropout)          (None, 32)                0         \n",
            "_________________________________________________________________\n",
            "dense_3 (Dense)              (None, 3)                 99        \n",
            "=================================================================\n",
            "Total params: 1,502,566\n",
            "Trainable params: 776,166\n",
            "Non-trainable params: 726,400\n",
            "_________________________________________________________________\n",
            "None\n",
            "Epoch 1/20\n",
            "WARNING:tensorflow:Gradients do not exist for variables ['dense/kernel:0', 'dense/bias:0', 'dense_1/kernel:0', 'dense_1/bias:0', 'dense_2/kernel:0', 'dense_2/bias:0'] when minimizing the loss.\n",
            "WARNING:tensorflow:Gradients do not exist for variables ['dense/kernel:0', 'dense/bias:0', 'dense_1/kernel:0', 'dense_1/bias:0', 'dense_2/kernel:0', 'dense_2/bias:0'] when minimizing the loss.\n",
            "52/52 [==============================] - 4s 35ms/step - loss: 1.0664 - accuracy: 0.6256\n",
            "Epoch 2/20\n",
            "52/52 [==============================] - 2s 34ms/step - loss: 0.9276 - accuracy: 0.6222\n",
            "Epoch 3/20\n",
            "52/52 [==============================] - 2s 34ms/step - loss: 0.9159 - accuracy: 0.6256\n",
            "Epoch 4/20\n",
            "52/52 [==============================] - 2s 34ms/step - loss: 0.9106 - accuracy: 0.6289\n",
            "Epoch 5/20\n",
            "52/52 [==============================] - 2s 34ms/step - loss: 0.9176 - accuracy: 0.6247\n",
            "Epoch 6/20\n",
            "52/52 [==============================] - 2s 34ms/step - loss: 0.9171 - accuracy: 0.6252\n",
            "Epoch 7/20\n",
            "52/52 [==============================] - 2s 35ms/step - loss: 0.9125 - accuracy: 0.6257\n",
            "Epoch 8/20\n",
            "52/52 [==============================] - 2s 35ms/step - loss: 0.9161 - accuracy: 0.6242\n",
            "Epoch 9/20\n",
            "52/52 [==============================] - 2s 34ms/step - loss: 0.9135 - accuracy: 0.6264\n",
            "Epoch 10/20\n",
            "52/52 [==============================] - 2s 35ms/step - loss: 0.9117 - accuracy: 0.6266\n",
            "Epoch 11/20\n",
            "52/52 [==============================] - 2s 35ms/step - loss: 0.9140 - accuracy: 0.6244\n",
            "Epoch 12/20\n",
            "52/52 [==============================] - 2s 35ms/step - loss: 0.9194 - accuracy: 0.6190\n",
            "Epoch 13/20\n",
            "52/52 [==============================] - 2s 35ms/step - loss: 0.9085 - accuracy: 0.6294\n",
            "Epoch 14/20\n",
            "52/52 [==============================] - 2s 35ms/step - loss: 0.9202 - accuracy: 0.6210\n",
            "Epoch 15/20\n",
            "52/52 [==============================] - 2s 35ms/step - loss: 0.9188 - accuracy: 0.6220\n",
            "Epoch 16/20\n",
            "52/52 [==============================] - 2s 35ms/step - loss: 0.9163 - accuracy: 0.6254\n",
            "Epoch 17/20\n",
            "52/52 [==============================] - 2s 35ms/step - loss: 0.9079 - accuracy: 0.6308\n",
            "Epoch 18/20\n",
            "52/52 [==============================] - 2s 35ms/step - loss: 0.9136 - accuracy: 0.6250\n",
            "Epoch 19/20\n",
            "52/52 [==============================] - 2s 35ms/step - loss: 0.9133 - accuracy: 0.6256\n",
            "Epoch 20/20\n",
            "52/52 [==============================] - 2s 34ms/step - loss: 0.9108 - accuracy: 0.6275\n",
            "[[924 238 302]\n",
            " [  0   0   0]\n",
            " [  0   0   0]]\n",
            "              precision    recall  f1-score   support\n",
            "\n",
            "           0       1.00      0.63      0.77      1464\n",
            "           1       0.00      0.00      0.00         0\n",
            "           2       0.00      0.00      0.00         0\n",
            "\n",
            "    accuracy                           0.63      1464\n",
            "   macro avg       0.33      0.21      0.26      1464\n",
            "weighted avg       1.00      0.63      0.77      1464\n",
            "\n",
            "0.6311475409836066\n"
          ],
          "name": "stdout"
        },
        {
          "output_type": "stream",
          "text": [
            "/usr/local/lib/python3.7/dist-packages/sklearn/metrics/_classification.py:1272: UndefinedMetricWarning: Recall and F-score are ill-defined and being set to 0.0 in labels with no true samples. Use `zero_division` parameter to control this behavior.\n",
            "  _warn_prf(average, modifier, msg_start, len(result))\n"
          ],
          "name": "stderr"
        }
      ]
    },
    {
      "cell_type": "code",
      "metadata": {
        "colab": {
          "base_uri": "https://localhost:8080/"
        },
        "id": "2OaDnLTvNjLs",
        "outputId": "d3c101b5-5955-4b5c-bb44-b6865160d3ef"
      },
      "source": [
        "# CNN\n",
        "\n",
        "model = Sequential()\n",
        "embedding_layer = Embedding(vocab_size,50,embeddings_initializer = Constant(embedding_matrix),input_length=20, trainable=False)\n",
        "model.add(embedding_layer)\n",
        "model.add(Convolution1D(filters=100,\n",
        "                        kernel_size=5,\n",
        "                        activation='relu'))\n",
        "model.add(GlobalMaxPooling1D())\n",
        "model.add(Dense(128,activation = 'relu'))\n",
        "model.add(Dropout(0.2))\n",
        "model.add(Dense(3,activation='softmax'))\n",
        "model.compile(loss='categorical_crossentropy',\n",
        "              optimizer='adam',\n",
        "              metrics=['accuracy'])\n",
        "model.fit(x_train_DL,y_train_DL,epochs=20)\n",
        "ans = model.predict(x_test_DL)\n",
        "labels = [np.where(r==1)[0][0] for r in y_test_DL]\n",
        "ans = np.argmax(ans,axis=1)\n",
        "accuracy_score(ans,labels)\n",
        "results(ans,labels)"
      ],
      "execution_count": null,
      "outputs": [
        {
          "output_type": "stream",
          "text": [
            "Epoch 1/20\n",
            "412/412 [==============================] - 2s 4ms/step - loss: 0.8218 - accuracy: 0.6780\n",
            "Epoch 2/20\n",
            "412/412 [==============================] - 2s 4ms/step - loss: 0.5290 - accuracy: 0.7933\n",
            "Epoch 3/20\n",
            "412/412 [==============================] - 2s 4ms/step - loss: 0.4624 - accuracy: 0.8136\n",
            "Epoch 4/20\n",
            "412/412 [==============================] - 2s 4ms/step - loss: 0.3929 - accuracy: 0.8434\n",
            "Epoch 5/20\n",
            "412/412 [==============================] - 2s 4ms/step - loss: 0.3373 - accuracy: 0.8733\n",
            "Epoch 6/20\n",
            "412/412 [==============================] - 2s 4ms/step - loss: 0.2601 - accuracy: 0.9012\n",
            "Epoch 7/20\n",
            "412/412 [==============================] - 2s 4ms/step - loss: 0.2286 - accuracy: 0.9109\n",
            "Epoch 8/20\n",
            "412/412 [==============================] - 2s 4ms/step - loss: 0.1755 - accuracy: 0.9367\n",
            "Epoch 9/20\n",
            "412/412 [==============================] - 2s 4ms/step - loss: 0.1527 - accuracy: 0.9428\n",
            "Epoch 10/20\n",
            "412/412 [==============================] - 2s 4ms/step - loss: 0.1525 - accuracy: 0.9427\n",
            "Epoch 11/20\n",
            "412/412 [==============================] - 2s 4ms/step - loss: 0.1225 - accuracy: 0.9573\n",
            "Epoch 12/20\n",
            "412/412 [==============================] - 2s 4ms/step - loss: 0.1134 - accuracy: 0.9570\n",
            "Epoch 13/20\n",
            "412/412 [==============================] - 2s 4ms/step - loss: 0.0986 - accuracy: 0.9652\n",
            "Epoch 14/20\n",
            "412/412 [==============================] - 2s 4ms/step - loss: 0.0921 - accuracy: 0.9707\n",
            "Epoch 15/20\n",
            "412/412 [==============================] - 2s 4ms/step - loss: 0.0883 - accuracy: 0.9699\n",
            "Epoch 16/20\n",
            "412/412 [==============================] - 2s 4ms/step - loss: 0.0839 - accuracy: 0.9718\n",
            "Epoch 17/20\n",
            "412/412 [==============================] - 2s 4ms/step - loss: 0.0842 - accuracy: 0.9700\n",
            "Epoch 18/20\n",
            "412/412 [==============================] - 2s 4ms/step - loss: 0.0743 - accuracy: 0.9762\n",
            "Epoch 19/20\n",
            "412/412 [==============================] - 2s 4ms/step - loss: 0.0683 - accuracy: 0.9777\n",
            "Epoch 20/20\n",
            "412/412 [==============================] - 2s 4ms/step - loss: 0.0725 - accuracy: 0.9751\n",
            "[[725  30  81]\n",
            " [ 72 154  51]\n",
            " [127  54 170]]\n",
            "              precision    recall  f1-score   support\n",
            "\n",
            "           0       0.78      0.87      0.82       836\n",
            "           1       0.65      0.56      0.60       277\n",
            "           2       0.56      0.48      0.52       351\n",
            "\n",
            "    accuracy                           0.72      1464\n",
            "   macro avg       0.66      0.64      0.65      1464\n",
            "weighted avg       0.71      0.72      0.71      1464\n",
            "\n",
            "0.7165300546448088\n"
          ],
          "name": "stdout"
        }
      ]
    },
    {
      "cell_type": "code",
      "metadata": {
        "id": "oR2jU74EOrHp"
      },
      "source": [
        ""
      ],
      "execution_count": null,
      "outputs": []
    }
  ]
}